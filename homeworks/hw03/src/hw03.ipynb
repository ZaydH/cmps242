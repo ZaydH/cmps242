{
 "cells": [
  {
   "cell_type": "markdown",
   "metadata": {},
   "source": [
    "<center><h2>CMPS242 - Homework \\#03</h2>\n",
    "    <h3>Benjamin Sherman & Zayd Hammoudeh</h3></center>\n",
    "    \n",
    "<b>Homework Goal</b>: Develop a learner that can classify SMS messages as spam or ham (i.e., not spam).\n",
    "\n",
    "The following steps in the Jupyter notebook should be run sequentially.\n",
    "\n",
    "<h3>Program Requirements:</h3>\n",
    "<ul>\n",
    "    <li>Python 2.7.13 - Standard distribution</li>\n",
    "    <li>Packages: Natural Language Toolkit (nltk), Scikit-Learn (sklearn), pandas, NumPy, ipywidgets, IPython, and matplotlib</li>\n",
    "    <li>Running the following on the command line enables Jupyter widgets: <pre>jupyter nbextension enable --py widgetsnbextension</pre></li>\n",
    "</ul>"
   ]
  },
  {
   "cell_type": "markdown",
   "metadata": {},
   "source": [
    "<h3><b>Step \\#1</b>: Parse the source data.</h3>\n",
    "\n",
    "The first stage in this step is to import and clean the data for tokenization. \n",
    "<ol>\n",
    "    <li>Import CSV</li>\n",
    "    <li>Remove invalid characters</li>\n",
    "    <li>Remove all punctuation</li>\n",
    "    <li>Make the strings all lowercase.</li>\n",
    "    <li>Remove stop words</li>\n",
    "</ol>\n",
    "\n",
    "Tokenization is performed first on the training set.  The words in training set will be the <b>vocabulary</b> for the test set.  This step is required since new words in the testing set will not have associated weights.\n",
    "\n",
    "After tokenization, term frequency-inverse document frequency (TF-IDF) is performed.  TF-IDF is defined as:\n",
    "\n",
    "<center>$\\text{TF-IDF}(d,t) = Tf(d,t) \\cdot IDF(t)$</center>\n",
    " \n",
    "Term frequency ($Tf$) is the number of times a specified term, $t$, appears in a document $d$.  Similarly, given a corpus of $n$ documents, the <b>document frequency</b> ($df$) is the number of documents that contain term $t$.  It is formally defined as:\n",
    "\n",
    "<center>$IDF(t)= \\ln \\left( \\frac{n+1}{df(t) + 1} \\right)  + 1$</center>\n",
    "\n",
    "Note that the additional of $1$ in the numerator and denominator is a smoothing factor.  Since we are restricting the test set to the training set's vocabulary, its benefit is limited.  However, we included it nonetheless.\n",
    "\n",
    "We observed that not normalizing the TF returned better results so we do not normalize the term frequency.\n",
    "\n",
    "The Python packages in this step are:\n",
    "<ul>\n",
    "    <li><b>Pandas</b>: Used to import from CSV and for organizaing results in the for use of the data frame object.</li>\n",
    "    <li><b>NLTK</b> (Natural Language Toolkit): This provides a list of stop words (i.e., common words like \"the\", \"or\", \"end\", etc. that individually add little context or value).</li>\n",
    "    <li><b>Scikit-Learn</b>: This is used for string tokenization and TF-IDF.</li>\n",
    "    <li><b>NumPy</b>: This is the return type of the function.</li>\n",
    "</ul>"
   ]
  },
  {
   "cell_type": "code",
   "execution_count": null,
   "metadata": {
    "scrolled": false
   },
   "outputs": [],
   "source": [
    "import input_parser\n",
    "train_data, test_data = input_parser.parse()"
   ]
  },
  {
   "cell_type": "markdown",
   "metadata": {},
   "source": [
    "<h3>Step \\#2: Configure and run the learner.</h3>\n",
    "\n",
    "Once the data structures have been built, we are ready to run the learning algorithm.  For convenience, we have added the feature that allows you to modify the Python settings via on screen widgets.  Once the settings are acceptable, click the \"Run Learner\" button to visualize the graphs.\n",
    "\n",
    "The Python packages used in step are:\n",
    "<ul>\n",
    "    <li>ipywidgets</li>\n",
    "    <li>IPython.display</li>\n",
    "</ul>"
   ]
  },
  {
   "cell_type": "code",
   "execution_count": null,
   "metadata": {},
   "outputs": [],
   "source": [
    "from widgets import *\n",
    "display(k_hbox, learning_alg_hbox, regularizer_hbox, epoch_hbox, learning_rate_hbox, lambdas_range_hbox, error_type_hbox, run_button)"
   ]
  },
  {
   "cell_type": "markdown",
   "metadata": {},
   "source": [
    "<h3>Step \\#3: Run the Learner</h3>\n",
    "\n",
    "Once all of the learning parameters have been configured and clicked the \"Run Learner\" button, the learner will run.  It will then plot the results."
   ]
  },
  {
   "cell_type": "code",
   "execution_count": null,
   "metadata": {},
   "outputs": [],
   "source": [
    "from run_learner import run_hw03\n",
    "train_err, validation_err, test_err = run_hw03(train_data, test_data)"
   ]
  },
  {
   "cell_type": "markdown",
   "metadata": {},
   "source": [
    "<h3>Step \\#4: Visualize the Outputs</h3>\n",
    "\n",
    "Below is a table showing the results and plots.\n",
    "\n",
    "To generate the graph and table visualizations, run the cell below and then click the \"<b>Update Results</b>\" button."
   ]
  },
  {
   "cell_type": "code",
   "execution_count": null,
   "metadata": {},
   "outputs": [],
   "source": [
    "from widgets import *\n",
    "display(update_results_button)"
   ]
  },
  {
   "cell_type": "markdown",
   "metadata": {},
   "source": [
    "<h3>Step \\#4: Visualize the Outputs</h3>\n",
    "\n",
    "Below is a table showing the results and plots.\n",
    "\n",
    "To generate the graph and table visualizations, run the cell below and then click the \"<b>Update Results</b>\" button."
   ]
  },
  {
   "cell_type": "code",
   "execution_count": null,
   "metadata": {},
   "outputs": [],
   "source": [
    "from widgets import *\n",
    "display(update_results_button)"
   ]
  },
  {
   "cell_type": "markdown",
   "metadata": {},
   "source": [
    "<h4>Step \\#4a: Table of the Results</h4>"
   ]
  },
  {
   "cell_type": "code",
   "execution_count": null,
   "metadata": {},
   "outputs": [],
   "source": [
    "from table_builder import create_table, stylize_table\n",
    "stylize_table(create_table(train_err, validation_err, test_err))"
   ]
  },
  {
   "cell_type": "markdown",
   "metadata": {},
   "source": [
    "<h4>Step \\#4b: Graph of the Results</h4>"
   ]
  },
  {
   "cell_type": "code",
   "execution_count": null,
   "metadata": {},
   "outputs": [],
   "source": [
    "import plotter\n",
    "plotter.create_plots(train_err, validation_err, test_err)"
   ]
  },
  {
   "cell_type": "code",
   "execution_count": null,
   "metadata": {},
   "outputs": [],
   "source": []
  }
 ],
 "metadata": {
  "kernelspec": {
   "display_name": "Python 2",
   "language": "python",
   "name": "python2"
  },
  "language_info": {
   "codemirror_mode": {
    "name": "ipython",
    "version": 2
   },
   "file_extension": ".py",
   "mimetype": "text/x-python",
   "name": "python",
   "nbconvert_exporter": "python",
   "pygments_lexer": "ipython2",
   "version": "2.7.13"
  }
 },
 "nbformat": 4,
 "nbformat_minor": 1
}

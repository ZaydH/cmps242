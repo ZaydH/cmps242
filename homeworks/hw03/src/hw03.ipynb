{
 "cells": [
  {
   "cell_type": "markdown",
   "metadata": {},
   "source": [
    "<center><h2>CMPS242 - Homework \\#3</h2>\n",
    "    <h3>Andrew Stolman, Benjamin Sherman, & Zayd Hammoudeh</h3></center>\n",
    "    \n",
    "<b>Homework Goal</b>: Develop a learner that can classify SMS messages as spam or ham (i.e., not spam).\n",
    "\n",
    "The following steps in the Jupyter notebook should be run sequentially.\n",
    "\n",
    "<h3>Program Requirements:</h3>\n",
    "<ul>\n",
    "    <li>Python 2.7.12 - Standard distribution</li>\n",
    "    <li>Packages: Natural Language Toolkit (ntlk), Scikit-Learn (sklearn), pandas, </li>\n",
    "    <li>To enable Jupyter widgets, run the command line call: <pre>jupyter nbextension enable --py widgetsnbextension</pre></li>\n",
    "</ul>"
   ]
  },
  {
   "cell_type": "markdown",
   "metadata": {},
   "source": [
    "<h3><b>Step \\#1</b>: Parse the source data.</h3>\n",
    "\n",
    "The first stage in this step is to import and clean the data for tokenization. \n",
    "<ol>\n",
    "    <li>Import CSV</li>\n",
    "    <li>Remove invalid characters</li>\n",
    "    <li>Remove all punctuation</li>\n",
    "    <li>Make the strings all lowercase.</li>\n",
    "    <li>Remove stop words</li>\n",
    "</ol>\n",
    "\n",
    "Tokenization is performed first on the training set.  The words in training set will be the <b>vocabulary</b> for the test set.  This step is required since new words in testing will not have associated weights.\n",
    "\n",
    "The Python packages in this step are:\n",
    "<ul>\n",
    "    <li><b>Pandas</b>: Used to import from CSV and for organizaing results in the for use of the data frame object.</li>\n",
    "    <li><b>NLTK</b> (Natural Language Toolkit): This provides a list of stop words (i.e., common words like \"the\", \"or\", \"end\", etc. that individually add little context or value).</li>\n",
    "    <li><b>Scikit-Learn</b>: This is used for string tokenization and TF-IDF.</li>\n",
    "</ul>"
   ]
  },
  {
   "cell_type": "code",
   "execution_count": 1,
   "metadata": {
    "scrolled": true
   },
   "outputs": [
    {
     "name": "stdout",
     "output_type": "stream",
     "text": [
      "Number of Training Samples: 3000\n",
      "Number of Test Samples: 2572\n"
     ]
    }
   ],
   "source": [
    "import input_parser\n",
    "train_data, test_data = input_parser.parse()"
   ]
  },
  {
   "cell_type": "markdown",
   "metadata": {},
   "source": [
    "<h3>Step \\#2: Configure and run the learner.</h3>\n",
    "\n",
    "Once the data structures have been built, we are ready to run the learning algorithm.  For convenience, we have added the feature that allows you to modify the Python settings via on screen widgets.  Once the settings are acceptable, click the \"Run Learner\" button to visualize the graphs."
   ]
  },
  {
   "cell_type": "code",
   "execution_count": 3,
   "metadata": {},
   "outputs": [
    {
     "data": {
      "text/plain": [
       "<IPython.core.display.Javascript object>"
      ]
     },
     "metadata": {},
     "output_type": "display_data"
    },
    {
     "data": {
      "text/html": [
       "<p>Failed to display Jupyter Widget of type <code>IntSlider</code>.</p>\n",
       "<p>\n",
       "  If you're reading this message in Jupyter Notebook or JupyterLab, it may mean\n",
       "  that the widgets JavaScript is still loading. If this message persists, it\n",
       "  likely means that the widgets JavaScript library is either not installed or\n",
       "  not enabled. See the <a href=\"https://ipywidgets.readthedocs.io/en/stable/user_install.html\">Jupyter\n",
       "  Widgets Documentation</a> for setup instructions.\n",
       "</p>\n",
       "<p>\n",
       "  If you're reading this message in another notebook frontend (for example, a static\n",
       "  rendering on GitHub or <a href=\"https://nbviewer.jupyter.org/\">NBViewer</a>),\n",
       "  it may mean that your frontend doesn't currently support widgets.\n",
       "</p>\n"
      ],
      "text/plain": [
       "IntSlider(value=10, continuous_update=False, description=u'Number of Folds:', max=20, min=2)"
      ]
     },
     "metadata": {},
     "output_type": "execute_result"
    },
    {
     "data": {
      "text/html": [
       "<p>Failed to display Jupyter Widget of type <code>RadioButtons</code>.</p>\n",
       "<p>\n",
       "  If you're reading this message in Jupyter Notebook or JupyterLab, it may mean\n",
       "  that the widgets JavaScript is still loading. If this message persists, it\n",
       "  likely means that the widgets JavaScript library is either not installed or\n",
       "  not enabled. See the <a href=\"https://ipywidgets.readthedocs.io/en/stable/user_install.html\">Jupyter\n",
       "  Widgets Documentation</a> for setup instructions.\n",
       "</p>\n",
       "<p>\n",
       "  If you're reading this message in another notebook frontend (for example, a static\n",
       "  rendering on GitHub or <a href=\"https://nbviewer.jupyter.org/\">NBViewer</a>),\n",
       "  it may mean that your frontend doesn't currently support widgets.\n",
       "</p>\n"
      ],
      "text/plain": [
       "RadioButtons(description=u'Select Learning Algorithm: ', options=('Gradient Descent', 'EG+/-'), value='Gradient Descent')"
      ]
     },
     "metadata": {},
     "output_type": "execute_result"
    },
    {
     "data": {
      "text/html": [
       "<p>Failed to display Jupyter Widget of type <code>Button</code>.</p>\n",
       "<p>\n",
       "  If you're reading this message in Jupyter Notebook or JupyterLab, it may mean\n",
       "  that the widgets JavaScript is still loading. If this message persists, it\n",
       "  likely means that the widgets JavaScript library is either not installed or\n",
       "  not enabled. See the <a href=\"https://ipywidgets.readthedocs.io/en/stable/user_install.html\">Jupyter\n",
       "  Widgets Documentation</a> for setup instructions.\n",
       "</p>\n",
       "<p>\n",
       "  If you're reading this message in another notebook frontend (for example, a static\n",
       "  rendering on GitHub or <a href=\"https://nbviewer.jupyter.org/\">NBViewer</a>),\n",
       "  it may mean that your frontend doesn't currently support widgets.\n",
       "</p>\n"
      ],
      "text/plain": [
       "Button(description=u'Run Learner', icon=u'check', style=ButtonStyle(), tooltip=u'Run Learning Algorithm with the specified paramters')"
      ]
     },
     "metadata": {},
     "output_type": "execute_result"
    }
   ],
   "source": [
    "from widgets import *\n",
    "display(k_slider, learning_alg_radio, run_button)"
   ]
  },
  {
   "cell_type": "code",
   "execution_count": 4,
   "metadata": {},
   "outputs": [
    {
     "name": "stdout",
     "output_type": "stream",
     "text": [
      "Executing fold #0\n",
      "Fold #0 completed.\n",
      "Executing fold #1\n",
      "Fold #1 completed.\n",
      "Executing fold #2\n",
      "Fold #2 completed.\n",
      "Executing fold #3\n",
      "Fold #3 completed.\n",
      "Executing fold #4\n",
      "Fold #4 completed.\n",
      "Executing fold #5\n",
      "Fold #5 completed.\n",
      "Executing fold #6\n",
      "Fold #6 completed.\n",
      "Executing fold #7\n",
      "Fold #7 completed.\n",
      "Executing fold #8\n",
      "Fold #8 completed.\n",
      "Executing fold #9\n",
      "Fold #9 completed.\n",
      "Executing fold #0\n",
      "Fold #0 completed.\n",
      "Executing fold #1\n",
      "Fold #1 completed.\n",
      "Executing fold #2\n",
      "Fold #2 completed.\n",
      "Executing fold #3\n",
      "Fold #3 completed.\n",
      "Executing fold #4\n",
      "Fold #4 completed.\n",
      "Executing fold #5\n",
      "Fold #5 completed.\n",
      "Executing fold #6\n",
      "Fold #6 completed.\n",
      "Executing fold #7\n",
      "Fold #7 completed.\n",
      "Executing fold #8\n",
      "Fold #8 completed.\n",
      "Executing fold #9\n",
      "Fold #9 completed.\n",
      "Executing fold #0\n",
      "Fold #0 completed.\n",
      "Executing fold #1\n",
      "Fold #1 completed.\n",
      "Executing fold #2\n",
      "Fold #2 completed.\n",
      "Executing fold #3\n",
      "Fold #3 completed.\n",
      "Executing fold #4\n",
      "Fold #4 completed.\n",
      "Executing fold #5\n",
      "Fold #5 completed.\n",
      "Executing fold #6\n",
      "Fold #6 completed.\n",
      "Executing fold #7\n",
      "Fold #7 completed.\n",
      "Executing fold #8\n",
      "Fold #8 completed.\n",
      "Executing fold #9\n",
      "Fold #9 completed.\n"
     ]
    }
   ],
   "source": [
    "run_hw03(train_data, test_data)"
   ]
  }
 ],
 "metadata": {
  "kernelspec": {
   "display_name": "Python 2",
   "language": "python",
   "name": "python2"
  },
  "language_info": {
   "codemirror_mode": {
    "name": "ipython",
    "version": 2
   },
   "file_extension": ".py",
   "mimetype": "text/x-python",
   "name": "python",
   "nbconvert_exporter": "python",
   "pygments_lexer": "ipython2",
   "version": "2.7.13"
  }
 },
 "nbformat": 4,
 "nbformat_minor": 1
}

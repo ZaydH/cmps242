{
 "cells": [
  {
   "cell_type": "markdown",
   "metadata": {},
   "source": [
    "<center><h2>CMPS242 - Homework \\#03</h2>\n",
    "    <h3>Andrew Stolman, Benjamin Sherman, & Zayd Hammoudeh</h3></center>\n",
    "    \n",
    "<b>Homework Goal</b>: Develop a learner that can classify SMS messages as spam or ham (i.e., not spam).\n",
    "\n",
    "The following steps in the Jupyter notebook should be run sequentially.\n",
    "\n",
    "<h3>Program Requirements:</h3>\n",
    "<ul>\n",
    "    <li>Python 2.7.12 - Standard distribution</li>\n",
    "    <li>Packages: Natural Language Toolkit (nltk), Scikit-Learn (sklearn), pandas, NumPy, ipywidgets, IPython.display, and matplotlib</li>\n",
    "    <li>Running the following on the command line enables Jupyter widgets: <pre>jupyter nbextension enable --py widgetsnbextension</pre></li>\n",
    "</ul>"
   ]
  },
  {
   "cell_type": "markdown",
   "metadata": {},
   "source": [
    "<h3><b>Step \\#1</b>: Parse the source data.</h3>\n",
    "\n",
    "The first stage in this step is to import and clean the data for tokenization. \n",
    "<ol>\n",
    "    <li>Import CSV</li>\n",
    "    <li>Remove invalid characters</li>\n",
    "    <li>Remove all punctuation</li>\n",
    "    <li>Make the strings all lowercase.</li>\n",
    "    <li>Remove stop words</li>\n",
    "</ol>\n",
    "\n",
    "Tokenization is performed first on the training set.  The words in training set will be the <b>vocabulary</b> for the test set.  This step is required since new words in the testing set will not have associated weights.\n",
    "\n",
    "After tokenization, term frequency-inverse document frequency (TF-IDF) is performed.  TF-IDF is defined as:\n",
    "\n",
    "<center>$\\text{TF-IDF}(d,t) = Tf(d,t) \\cdot IDF(t)$</center>\n",
    " \n",
    "Term frequency ($Tf$) is the number of times a specified term, $t$, appears in a document $d$.  Similarly, given a corpus of $n$ documents, the <b>document frequency</b> ($df$) is the number of documents that contain term $t$.  It is formally defined as:\n",
    "\n",
    "<center>$IDF(t)= \\ln \\left( \\frac{n+1}{df(t) + 1} \\right)  + 1$</center>\n",
    "\n",
    "Note that the additional of $1$ in the numerator and denominator is a smoothing factor.  Since we are restricting the test set to the training set's vocabulary, its benefit is limited.  However, we included it nonetheless.\n",
    "\n",
    "The Python packages in this step are:\n",
    "<ul>\n",
    "    <li><b>Pandas</b>: Used to import from CSV and for organizaing results in the for use of the data frame object.</li>\n",
    "    <li><b>NLTK</b> (Natural Language Toolkit): This provides a list of stop words (i.e., common words like \"the\", \"or\", \"end\", etc. that individually add little context or value).</li>\n",
    "    <li><b>Scikit-Learn</b>: This is used for string tokenization and TF-IDF.</li>\n",
    "    <li><b>NumPy</b>: This is the return type of the function.</li>\n",
    "</ul>"
   ]
  },
  {
   "cell_type": "code",
   "execution_count": 1,
   "metadata": {
    "scrolled": false
   },
   "outputs": [
    {
     "name": "stdout",
     "output_type": "stream",
     "text": [
      "Number of Training Samples: 3000\n",
      "Number of Test Samples: 2572\n"
     ]
    }
   ],
   "source": [
    "import input_parser\n",
    "train_data, test_data = input_parser.parse()"
   ]
  },
  {
   "cell_type": "markdown",
   "metadata": {},
   "source": [
    "<h3>Step \\#2: Configure and run the learner.</h3>\n",
    "\n",
    "Once the data structures have been built, we are ready to run the learning algorithm.  For convenience, we have added the feature that allows you to modify the Python settings via on screen widgets.  Once the settings are acceptable, click the \"Run Learner\" button to visualize the graphs.\n",
    "\n",
    "The Python packages used in step are:\n",
    "<ul>\n",
    "    <li>ipywidgets</li>\n",
    "    <li>IPython.display</li>\n",
    "</ul>"
   ]
  },
  {
   "cell_type": "code",
   "execution_count": 3,
   "metadata": {},
   "outputs": [
    {
     "data": {
      "application/javascript": [
       "IPython.notebook.execute_cells_below()"
      ],
      "text/plain": [
       "<IPython.core.display.Javascript object>"
      ]
     },
     "metadata": {},
     "output_type": "display_data"
    },
    {
     "data": {
      "application/vnd.jupyter.widget-view+json": {
       "model_id": "09bc92186a834040a64b12789f91ec7e",
       "version_major": 2,
       "version_minor": 0
      },
      "text/html": [
       "<p>Failed to display Jupyter Widget of type <code>HBox</code>.</p>\n",
       "<p>\n",
       "  If you're reading this message in Jupyter Notebook or JupyterLab, it may mean\n",
       "  that the widgets JavaScript is still loading. If this message persists, it\n",
       "  likely means that the widgets JavaScript library is either not installed or\n",
       "  not enabled. See the <a href=\"https://ipywidgets.readthedocs.io/en/stable/user_install.html\">Jupyter\n",
       "  Widgets Documentation</a> for setup instructions.\n",
       "</p>\n",
       "<p>\n",
       "  If you're reading this message in another notebook frontend (for example, a static\n",
       "  rendering on GitHub or <a href=\"https://nbviewer.jupyter.org/\">NBViewer</a>),\n",
       "  it may mean that your frontend doesn't currently support widgets.\n",
       "</p>\n"
      ],
      "text/plain": [
       "HBox(children=(Label(value=u'Number of Folds: '), IntSlider(value=10, continuous_update=False, max=20, min=2)))"
      ]
     },
     "metadata": {},
     "output_type": "display_data"
    },
    {
     "data": {
      "application/vnd.jupyter.widget-view+json": {
       "model_id": "1ab49dfd3b2f4e729a544867ab8b2e35",
       "version_major": 2,
       "version_minor": 0
      },
      "text/html": [
       "<p>Failed to display Jupyter Widget of type <code>HBox</code>.</p>\n",
       "<p>\n",
       "  If you're reading this message in Jupyter Notebook or JupyterLab, it may mean\n",
       "  that the widgets JavaScript is still loading. If this message persists, it\n",
       "  likely means that the widgets JavaScript library is either not installed or\n",
       "  not enabled. See the <a href=\"https://ipywidgets.readthedocs.io/en/stable/user_install.html\">Jupyter\n",
       "  Widgets Documentation</a> for setup instructions.\n",
       "</p>\n",
       "<p>\n",
       "  If you're reading this message in another notebook frontend (for example, a static\n",
       "  rendering on GitHub or <a href=\"https://nbviewer.jupyter.org/\">NBViewer</a>),\n",
       "  it may mean that your frontend doesn't currently support widgets.\n",
       "</p>\n"
      ],
      "text/plain": [
       "HBox(children=(Label(value=u'Select Learning Algorithm: '), RadioButtons(options=('Gradient Descent', 'EG+/-'), value='Gradient Descent')))"
      ]
     },
     "metadata": {},
     "output_type": "display_data"
    },
    {
     "data": {
      "application/vnd.jupyter.widget-view+json": {
       "model_id": "32350a8efd2045ba9c4a2e43f1244ad7",
       "version_major": 2,
       "version_minor": 0
      },
      "text/html": [
       "<p>Failed to display Jupyter Widget of type <code>HBox</code>.</p>\n",
       "<p>\n",
       "  If you're reading this message in Jupyter Notebook or JupyterLab, it may mean\n",
       "  that the widgets JavaScript is still loading. If this message persists, it\n",
       "  likely means that the widgets JavaScript library is either not installed or\n",
       "  not enabled. See the <a href=\"https://ipywidgets.readthedocs.io/en/stable/user_install.html\">Jupyter\n",
       "  Widgets Documentation</a> for setup instructions.\n",
       "</p>\n",
       "<p>\n",
       "  If you're reading this message in another notebook frontend (for example, a static\n",
       "  rendering on GitHub or <a href=\"https://nbviewer.jupyter.org/\">NBViewer</a>),\n",
       "  it may mean that your frontend doesn't currently support widgets.\n",
       "</p>\n"
      ],
      "text/plain": [
       "HBox(children=(Label(value=u'Learning Rate ($\\\\eta$): '), FloatSlider(value=1.0, max=1.0, min=0.01, step=0.01)))"
      ]
     },
     "metadata": {},
     "output_type": "display_data"
    },
    {
     "data": {
      "application/vnd.jupyter.widget-view+json": {
       "model_id": "98a163ef5d5b4c6e8b3e7cdfd1a4e230",
       "version_major": 2,
       "version_minor": 0
      },
      "text/html": [
       "<p>Failed to display Jupyter Widget of type <code>HBox</code>.</p>\n",
       "<p>\n",
       "  If you're reading this message in Jupyter Notebook or JupyterLab, it may mean\n",
       "  that the widgets JavaScript is still loading. If this message persists, it\n",
       "  likely means that the widgets JavaScript library is either not installed or\n",
       "  not enabled. See the <a href=\"https://ipywidgets.readthedocs.io/en/stable/user_install.html\">Jupyter\n",
       "  Widgets Documentation</a> for setup instructions.\n",
       "</p>\n",
       "<p>\n",
       "  If you're reading this message in another notebook frontend (for example, a static\n",
       "  rendering on GitHub or <a href=\"https://nbviewer.jupyter.org/\">NBViewer</a>),\n",
       "  it may mean that your frontend doesn't currently support widgets.\n",
       "</p>\n"
      ],
      "text/plain": [
       "HBox(children=(Label(value=u'Range of $\\\\lambda$ in Form $2^{x}$: '), IntRangeSlider(value=(-3, 4), max=5, min=-5)))"
      ]
     },
     "metadata": {},
     "output_type": "display_data"
    },
    {
     "data": {
      "application/vnd.jupyter.widget-view+json": {
       "model_id": "6756b94a845f4afa8bba81440a1d870b",
       "version_major": 2,
       "version_minor": 0
      },
      "text/html": [
       "<p>Failed to display Jupyter Widget of type <code>Button</code>.</p>\n",
       "<p>\n",
       "  If you're reading this message in Jupyter Notebook or JupyterLab, it may mean\n",
       "  that the widgets JavaScript is still loading. If this message persists, it\n",
       "  likely means that the widgets JavaScript library is either not installed or\n",
       "  not enabled. See the <a href=\"https://ipywidgets.readthedocs.io/en/stable/user_install.html\">Jupyter\n",
       "  Widgets Documentation</a> for setup instructions.\n",
       "</p>\n",
       "<p>\n",
       "  If you're reading this message in another notebook frontend (for example, a static\n",
       "  rendering on GitHub or <a href=\"https://nbviewer.jupyter.org/\">NBViewer</a>),\n",
       "  it may mean that your frontend doesn't currently support widgets.\n",
       "</p>\n"
      ],
      "text/plain": [
       "Button(description=u'Run Learner', icon=u'check', style=ButtonStyle(), tooltip=u'Run Learning Algorithm with the specified paramters')"
      ]
     },
     "metadata": {},
     "output_type": "display_data"
    }
   ],
   "source": [
    "from widgets import *\n",
    "display(k_hbox, learning_alg_hbox, learning_rate_hbox, lambdas_range_hbox, run_button)"
   ]
  },
  {
   "cell_type": "markdown",
   "metadata": {},
   "source": [
    "<h3>Step \\#3: Run the Learner</h3>\n",
    "\n",
    "Once all of the learning parameters have been configured and clicked the \"Run Learner\" button, the learner will run.  It will then plot the results."
   ]
  },
  {
   "cell_type": "code",
   "execution_count": 4,
   "metadata": {},
   "outputs": [
    {
     "name": "stdout",
     "output_type": "stream",
     "text": [
      "Starting Learner.\n",
      "Learner complete.\n"
     ]
    }
   ],
   "source": [
    "from run_learner import run_hw03\n",
    "train_err, validation_err, test_err = run_hw03(train_data, test_data)"
   ]
  },
  {
   "cell_type": "markdown",
   "metadata": {},
   "source": [
    "<h3>Step \\#4: Visualize the Outputs</h3>\n",
    "\n",
    "Below is a table showing the results and plots.\n",
    "\n",
    "To generate the graph and table visualizations, run the cell below and then click the \"<b>Update Results</b>\" button."
   ]
  },
  {
   "cell_type": "code",
   "execution_count": 5,
   "metadata": {},
   "outputs": [
    {
     "data": {
      "application/vnd.jupyter.widget-view+json": {
       "model_id": "7eaa2ad719ba4e9bb918406c10fad15f",
       "version_major": 2,
       "version_minor": 0
      },
      "text/html": [
       "<p>Failed to display Jupyter Widget of type <code>Button</code>.</p>\n",
       "<p>\n",
       "  If you're reading this message in Jupyter Notebook or JupyterLab, it may mean\n",
       "  that the widgets JavaScript is still loading. If this message persists, it\n",
       "  likely means that the widgets JavaScript library is either not installed or\n",
       "  not enabled. See the <a href=\"https://ipywidgets.readthedocs.io/en/stable/user_install.html\">Jupyter\n",
       "  Widgets Documentation</a> for setup instructions.\n",
       "</p>\n",
       "<p>\n",
       "  If you're reading this message in another notebook frontend (for example, a static\n",
       "  rendering on GitHub or <a href=\"https://nbviewer.jupyter.org/\">NBViewer</a>),\n",
       "  it may mean that your frontend doesn't currently support widgets.\n",
       "</p>\n"
      ],
      "text/plain": [
       "Button(description=u'Update Results', icon=u'check', style=ButtonStyle(), tooltip=u'Update the table and graph')"
      ]
     },
     "metadata": {},
     "output_type": "display_data"
    }
   ],
   "source": [
    "from widgets import *\n",
    "display(update_results_button)"
   ]
  },
  {
   "cell_type": "markdown",
   "metadata": {},
   "source": [
    "<h4>Step \\#4a: Table of the Results</h4>"
   ]
  },
  {
   "cell_type": "code",
   "execution_count": 6,
   "metadata": {},
   "outputs": [
    {
     "data": {
      "text/html": [
       "<style  type=\"text/css\" >\n",
       "    #T_de260ba3_b2e6_11e7_bb27_8c8590226358 .row_heading {\n",
       "          color: black;\n",
       "          border-color: black;\n",
       "          border-style: solid;\n",
       "          border-width: 1px;\n",
       "          text-align: center;\n",
       "    }    #T_de260ba3_b2e6_11e7_bb27_8c8590226358 .col_heading {\n",
       "          display: none;\n",
       "    }    #T_de260ba3_b2e6_11e7_bb27_8c8590226358row0_col0 {\n",
       "            color:  black;\n",
       "            border-color:  black;\n",
       "            border-style:  solid;\n",
       "            border-width:  1px;\n",
       "            text-align:  center;\n",
       "        }    #T_de260ba3_b2e6_11e7_bb27_8c8590226358row0_col1 {\n",
       "            color:  black;\n",
       "            border-color:  black;\n",
       "            border-style:  solid;\n",
       "            border-width:  1px;\n",
       "            text-align:  center;\n",
       "        }    #T_de260ba3_b2e6_11e7_bb27_8c8590226358row0_col2 {\n",
       "            color:  black;\n",
       "            border-color:  black;\n",
       "            border-style:  solid;\n",
       "            border-width:  1px;\n",
       "            text-align:  center;\n",
       "        }    #T_de260ba3_b2e6_11e7_bb27_8c8590226358row0_col3 {\n",
       "            color:  black;\n",
       "            border-color:  black;\n",
       "            border-style:  solid;\n",
       "            border-width:  1px;\n",
       "            text-align:  center;\n",
       "        }    #T_de260ba3_b2e6_11e7_bb27_8c8590226358row0_col4 {\n",
       "            color:  black;\n",
       "            border-color:  black;\n",
       "            border-style:  solid;\n",
       "            border-width:  1px;\n",
       "            text-align:  center;\n",
       "        }    #T_de260ba3_b2e6_11e7_bb27_8c8590226358row0_col5 {\n",
       "            color:  black;\n",
       "            border-color:  black;\n",
       "            border-style:  solid;\n",
       "            border-width:  1px;\n",
       "            text-align:  center;\n",
       "        }    #T_de260ba3_b2e6_11e7_bb27_8c8590226358row0_col6 {\n",
       "            color:  black;\n",
       "            border-color:  black;\n",
       "            border-style:  solid;\n",
       "            border-width:  1px;\n",
       "            text-align:  center;\n",
       "        }    #T_de260ba3_b2e6_11e7_bb27_8c8590226358row0_col7 {\n",
       "            color:  black;\n",
       "            border-color:  black;\n",
       "            border-style:  solid;\n",
       "            border-width:  1px;\n",
       "            text-align:  center;\n",
       "        }    #T_de260ba3_b2e6_11e7_bb27_8c8590226358row0_col8 {\n",
       "            color:  black;\n",
       "            border-color:  black;\n",
       "            border-style:  solid;\n",
       "            border-width:  1px;\n",
       "            text-align:  center;\n",
       "        }    #T_de260ba3_b2e6_11e7_bb27_8c8590226358row1_col0 {\n",
       "            : ;\n",
       "            color:  black;\n",
       "            border-color:  black;\n",
       "            border-style:  solid;\n",
       "            border-width:  1px;\n",
       "            text-align:  center;\n",
       "        }    #T_de260ba3_b2e6_11e7_bb27_8c8590226358row1_col1 {\n",
       "            : ;\n",
       "            color:  black;\n",
       "            border-color:  black;\n",
       "            border-style:  solid;\n",
       "            border-width:  1px;\n",
       "            text-align:  center;\n",
       "        }    #T_de260ba3_b2e6_11e7_bb27_8c8590226358row1_col2 {\n",
       "            : ;\n",
       "            color:  black;\n",
       "            border-color:  black;\n",
       "            border-style:  solid;\n",
       "            border-width:  1px;\n",
       "            text-align:  center;\n",
       "        }    #T_de260ba3_b2e6_11e7_bb27_8c8590226358row1_col3 {\n",
       "            background-color:  yellow;\n",
       "             font-weight:  bold;\n",
       "            color:  black;\n",
       "            border-color:  black;\n",
       "            border-style:  solid;\n",
       "            border-width:  1px;\n",
       "            text-align:  center;\n",
       "        }    #T_de260ba3_b2e6_11e7_bb27_8c8590226358row1_col4 {\n",
       "            : ;\n",
       "            color:  black;\n",
       "            border-color:  black;\n",
       "            border-style:  solid;\n",
       "            border-width:  1px;\n",
       "            text-align:  center;\n",
       "        }    #T_de260ba3_b2e6_11e7_bb27_8c8590226358row1_col5 {\n",
       "            : ;\n",
       "            color:  black;\n",
       "            border-color:  black;\n",
       "            border-style:  solid;\n",
       "            border-width:  1px;\n",
       "            text-align:  center;\n",
       "        }    #T_de260ba3_b2e6_11e7_bb27_8c8590226358row1_col6 {\n",
       "            : ;\n",
       "            color:  black;\n",
       "            border-color:  black;\n",
       "            border-style:  solid;\n",
       "            border-width:  1px;\n",
       "            text-align:  center;\n",
       "        }    #T_de260ba3_b2e6_11e7_bb27_8c8590226358row1_col7 {\n",
       "            : ;\n",
       "            color:  black;\n",
       "            border-color:  black;\n",
       "            border-style:  solid;\n",
       "            border-width:  1px;\n",
       "            text-align:  center;\n",
       "        }    #T_de260ba3_b2e6_11e7_bb27_8c8590226358row1_col8 {\n",
       "            : ;\n",
       "            color:  black;\n",
       "            border-color:  black;\n",
       "            border-style:  solid;\n",
       "            border-width:  1px;\n",
       "            text-align:  center;\n",
       "        }    #T_de260ba3_b2e6_11e7_bb27_8c8590226358row2_col0 {\n",
       "            : ;\n",
       "            color:  black;\n",
       "            border-color:  black;\n",
       "            border-style:  solid;\n",
       "            border-width:  1px;\n",
       "            text-align:  center;\n",
       "        }    #T_de260ba3_b2e6_11e7_bb27_8c8590226358row2_col1 {\n",
       "            : ;\n",
       "            color:  black;\n",
       "            border-color:  black;\n",
       "            border-style:  solid;\n",
       "            border-width:  1px;\n",
       "            text-align:  center;\n",
       "        }    #T_de260ba3_b2e6_11e7_bb27_8c8590226358row2_col2 {\n",
       "            : ;\n",
       "            color:  black;\n",
       "            border-color:  black;\n",
       "            border-style:  solid;\n",
       "            border-width:  1px;\n",
       "            text-align:  center;\n",
       "        }    #T_de260ba3_b2e6_11e7_bb27_8c8590226358row2_col3 {\n",
       "            : ;\n",
       "            color:  black;\n",
       "            border-color:  black;\n",
       "            border-style:  solid;\n",
       "            border-width:  1px;\n",
       "            text-align:  center;\n",
       "        }    #T_de260ba3_b2e6_11e7_bb27_8c8590226358row2_col4 {\n",
       "            : ;\n",
       "            color:  black;\n",
       "            border-color:  black;\n",
       "            border-style:  solid;\n",
       "            border-width:  1px;\n",
       "            text-align:  center;\n",
       "        }    #T_de260ba3_b2e6_11e7_bb27_8c8590226358row2_col5 {\n",
       "            : ;\n",
       "            color:  black;\n",
       "            border-color:  black;\n",
       "            border-style:  solid;\n",
       "            border-width:  1px;\n",
       "            text-align:  center;\n",
       "        }    #T_de260ba3_b2e6_11e7_bb27_8c8590226358row2_col6 {\n",
       "            background-color:  yellow;\n",
       "             font-weight:  bold;\n",
       "            color:  black;\n",
       "            border-color:  black;\n",
       "            border-style:  solid;\n",
       "            border-width:  1px;\n",
       "            text-align:  center;\n",
       "        }    #T_de260ba3_b2e6_11e7_bb27_8c8590226358row2_col7 {\n",
       "            : ;\n",
       "            color:  black;\n",
       "            border-color:  black;\n",
       "            border-style:  solid;\n",
       "            border-width:  1px;\n",
       "            text-align:  center;\n",
       "        }    #T_de260ba3_b2e6_11e7_bb27_8c8590226358row2_col8 {\n",
       "            : ;\n",
       "            color:  black;\n",
       "            border-color:  black;\n",
       "            border-style:  solid;\n",
       "            border-width:  1px;\n",
       "            text-align:  center;\n",
       "        }    #T_de260ba3_b2e6_11e7_bb27_8c8590226358row3_col0 {\n",
       "            : ;\n",
       "            color:  black;\n",
       "            border-color:  black;\n",
       "            border-style:  solid;\n",
       "            border-width:  1px;\n",
       "            text-align:  center;\n",
       "        }    #T_de260ba3_b2e6_11e7_bb27_8c8590226358row3_col1 {\n",
       "            : ;\n",
       "            color:  black;\n",
       "            border-color:  black;\n",
       "            border-style:  solid;\n",
       "            border-width:  1px;\n",
       "            text-align:  center;\n",
       "        }    #T_de260ba3_b2e6_11e7_bb27_8c8590226358row3_col2 {\n",
       "            : ;\n",
       "            color:  black;\n",
       "            border-color:  black;\n",
       "            border-style:  solid;\n",
       "            border-width:  1px;\n",
       "            text-align:  center;\n",
       "        }    #T_de260ba3_b2e6_11e7_bb27_8c8590226358row3_col3 {\n",
       "            : ;\n",
       "            color:  black;\n",
       "            border-color:  black;\n",
       "            border-style:  solid;\n",
       "            border-width:  1px;\n",
       "            text-align:  center;\n",
       "        }    #T_de260ba3_b2e6_11e7_bb27_8c8590226358row3_col4 {\n",
       "            : ;\n",
       "            color:  black;\n",
       "            border-color:  black;\n",
       "            border-style:  solid;\n",
       "            border-width:  1px;\n",
       "            text-align:  center;\n",
       "        }    #T_de260ba3_b2e6_11e7_bb27_8c8590226358row3_col5 {\n",
       "            : ;\n",
       "            color:  black;\n",
       "            border-color:  black;\n",
       "            border-style:  solid;\n",
       "            border-width:  1px;\n",
       "            text-align:  center;\n",
       "        }    #T_de260ba3_b2e6_11e7_bb27_8c8590226358row3_col6 {\n",
       "            background-color:  yellow;\n",
       "             font-weight:  bold;\n",
       "            color:  black;\n",
       "            border-color:  black;\n",
       "            border-style:  solid;\n",
       "            border-width:  1px;\n",
       "            text-align:  center;\n",
       "        }    #T_de260ba3_b2e6_11e7_bb27_8c8590226358row3_col7 {\n",
       "            : ;\n",
       "            color:  black;\n",
       "            border-color:  black;\n",
       "            border-style:  solid;\n",
       "            border-width:  1px;\n",
       "            text-align:  center;\n",
       "        }    #T_de260ba3_b2e6_11e7_bb27_8c8590226358row3_col8 {\n",
       "            : ;\n",
       "            color:  black;\n",
       "            border-color:  black;\n",
       "            border-style:  solid;\n",
       "            border-width:  1px;\n",
       "            text-align:  center;\n",
       "        }</style>  \n",
       "<table id=\"T_de260ba3_b2e6_11e7_bb27_8c8590226358\" > \n",
       "<thead>    <tr> \n",
       "        <th class=\"blank level0\" ></th> \n",
       "        <th class=\"col_heading level0 col0\" >0</th> \n",
       "        <th class=\"col_heading level0 col1\" >1</th> \n",
       "        <th class=\"col_heading level0 col2\" >2</th> \n",
       "        <th class=\"col_heading level0 col3\" >3</th> \n",
       "        <th class=\"col_heading level0 col4\" >4</th> \n",
       "        <th class=\"col_heading level0 col5\" >5</th> \n",
       "        <th class=\"col_heading level0 col6\" >6</th> \n",
       "        <th class=\"col_heading level0 col7\" >7</th> \n",
       "        <th class=\"col_heading level0 col8\" >8</th> \n",
       "    </tr></thead> \n",
       "<tbody>    <tr> \n",
       "        <th id=\"T_de260ba3_b2e6_11e7_bb27_8c8590226358level0_row0\" class=\"row_heading level0 row0\" >$\\lambda$</th> \n",
       "        <td id=\"T_de260ba3_b2e6_11e7_bb27_8c8590226358row0_col0\" class=\"data row0 col0\" >0</td> \n",
       "        <td id=\"T_de260ba3_b2e6_11e7_bb27_8c8590226358row0_col1\" class=\"data row0 col1\" >$2^{-3}$</td> \n",
       "        <td id=\"T_de260ba3_b2e6_11e7_bb27_8c8590226358row0_col2\" class=\"data row0 col2\" >$2^{-2}$</td> \n",
       "        <td id=\"T_de260ba3_b2e6_11e7_bb27_8c8590226358row0_col3\" class=\"data row0 col3\" >$2^{-1}$</td> \n",
       "        <td id=\"T_de260ba3_b2e6_11e7_bb27_8c8590226358row0_col4\" class=\"data row0 col4\" >$2^{0}$</td> \n",
       "        <td id=\"T_de260ba3_b2e6_11e7_bb27_8c8590226358row0_col5\" class=\"data row0 col5\" >$2^{1}$</td> \n",
       "        <td id=\"T_de260ba3_b2e6_11e7_bb27_8c8590226358row0_col6\" class=\"data row0 col6\" >$2^{2}$</td> \n",
       "        <td id=\"T_de260ba3_b2e6_11e7_bb27_8c8590226358row0_col7\" class=\"data row0 col7\" >$2^{3}$</td> \n",
       "        <td id=\"T_de260ba3_b2e6_11e7_bb27_8c8590226358row0_col8\" class=\"data row0 col8\" >$2^{4}$</td> \n",
       "    </tr>    <tr> \n",
       "        <th id=\"T_de260ba3_b2e6_11e7_bb27_8c8590226358level0_row1\" class=\"row_heading level0 row1\" >Training</th> \n",
       "        <td id=\"T_de260ba3_b2e6_11e7_bb27_8c8590226358row1_col0\" class=\"data row1 col0\" >0.0759</td> \n",
       "        <td id=\"T_de260ba3_b2e6_11e7_bb27_8c8590226358row1_col1\" class=\"data row1 col1\" >0.0463</td> \n",
       "        <td id=\"T_de260ba3_b2e6_11e7_bb27_8c8590226358row1_col2\" class=\"data row1 col2\" >0.0315</td> \n",
       "        <td id=\"T_de260ba3_b2e6_11e7_bb27_8c8590226358row1_col3\" class=\"data row1 col3\" >0.0012</td> \n",
       "        <td id=\"T_de260ba3_b2e6_11e7_bb27_8c8590226358row1_col4\" class=\"data row1 col4\" >0.0040</td> \n",
       "        <td id=\"T_de260ba3_b2e6_11e7_bb27_8c8590226358row1_col5\" class=\"data row1 col5\" >0.0132</td> \n",
       "        <td id=\"T_de260ba3_b2e6_11e7_bb27_8c8590226358row1_col6\" class=\"data row1 col6\" >0.0220</td> \n",
       "        <td id=\"T_de260ba3_b2e6_11e7_bb27_8c8590226358row1_col7\" class=\"data row1 col7\" >0.0360</td> \n",
       "        <td id=\"T_de260ba3_b2e6_11e7_bb27_8c8590226358row1_col8\" class=\"data row1 col8\" >0.0920</td> \n",
       "    </tr>    <tr> \n",
       "        <th id=\"T_de260ba3_b2e6_11e7_bb27_8c8590226358level0_row2\" class=\"row_heading level0 row2\" >Validation</th> \n",
       "        <td id=\"T_de260ba3_b2e6_11e7_bb27_8c8590226358row2_col0\" class=\"data row2 col0\" >0.2421</td> \n",
       "        <td id=\"T_de260ba3_b2e6_11e7_bb27_8c8590226358row2_col1\" class=\"data row2 col1\" >0.2335</td> \n",
       "        <td id=\"T_de260ba3_b2e6_11e7_bb27_8c8590226358row2_col2\" class=\"data row2 col2\" >0.2333</td> \n",
       "        <td id=\"T_de260ba3_b2e6_11e7_bb27_8c8590226358row2_col3\" class=\"data row2 col3\" >0.2249</td> \n",
       "        <td id=\"T_de260ba3_b2e6_11e7_bb27_8c8590226358row2_col4\" class=\"data row2 col4\" >0.2077</td> \n",
       "        <td id=\"T_de260ba3_b2e6_11e7_bb27_8c8590226358row2_col5\" class=\"data row2 col5\" >0.2018</td> \n",
       "        <td id=\"T_de260ba3_b2e6_11e7_bb27_8c8590226358row2_col6\" class=\"data row2 col6\" >0.2007</td> \n",
       "        <td id=\"T_de260ba3_b2e6_11e7_bb27_8c8590226358row2_col7\" class=\"data row2 col7\" >0.2014</td> \n",
       "        <td id=\"T_de260ba3_b2e6_11e7_bb27_8c8590226358row2_col8\" class=\"data row2 col8\" >0.2251</td> \n",
       "    </tr>    <tr> \n",
       "        <th id=\"T_de260ba3_b2e6_11e7_bb27_8c8590226358level0_row3\" class=\"row_heading level0 row3\" >Test</th> \n",
       "        <td id=\"T_de260ba3_b2e6_11e7_bb27_8c8590226358row3_col0\" class=\"data row3 col0\" >0.2124</td> \n",
       "        <td id=\"T_de260ba3_b2e6_11e7_bb27_8c8590226358row3_col1\" class=\"data row3 col1\" >0.2073</td> \n",
       "        <td id=\"T_de260ba3_b2e6_11e7_bb27_8c8590226358row3_col2\" class=\"data row3 col2\" >0.2049</td> \n",
       "        <td id=\"T_de260ba3_b2e6_11e7_bb27_8c8590226358row3_col3\" class=\"data row3 col3\" >0.2031</td> \n",
       "        <td id=\"T_de260ba3_b2e6_11e7_bb27_8c8590226358row3_col4\" class=\"data row3 col4\" >0.1912</td> \n",
       "        <td id=\"T_de260ba3_b2e6_11e7_bb27_8c8590226358row3_col5\" class=\"data row3 col5\" >0.1811</td> \n",
       "        <td id=\"T_de260ba3_b2e6_11e7_bb27_8c8590226358row3_col6\" class=\"data row3 col6\" >0.1809</td> \n",
       "        <td id=\"T_de260ba3_b2e6_11e7_bb27_8c8590226358row3_col7\" class=\"data row3 col7\" >0.1817</td> \n",
       "        <td id=\"T_de260ba3_b2e6_11e7_bb27_8c8590226358row3_col8\" class=\"data row3 col8\" >0.1848</td> \n",
       "    </tr></tbody> \n",
       "</table> "
      ],
      "text/plain": [
       "<pandas.io.formats.style.Styler at 0x10cdccf10>"
      ]
     },
     "execution_count": 6,
     "metadata": {},
     "output_type": "execute_result"
    }
   ],
   "source": [
    "from table_builder import create_table\n",
    "create_table(train_err, validation_err, test_err)"
   ]
  },
  {
   "cell_type": "markdown",
   "metadata": {},
   "source": [
    "<h4>Step \\#4b: Graph of the Results</h4>"
   ]
  },
  {
   "cell_type": "code",
   "execution_count": 7,
   "metadata": {},
   "outputs": [
    {
     "data": {
      "image/png": "[encoded data removed]",
      "text/plain": [
       "<matplotlib.figure.Figure at 0x10d95fa90>"
      ]
     },
     "metadata": {},
     "output_type": "display_data"
    }
   ],
   "source": [
    "import plotter\n",
    "plotter.create_plots(train_err, validation_err, test_err)"
   ]
  },
  {
   "cell_type": "code",
   "execution_count": null,
   "metadata": {},
   "outputs": [],
   "source": []
  }
 ],
 "metadata": {
  "kernelspec": {
   "display_name": "Python 2",
   "language": "python",
   "name": "python2"
  },
  "language_info": {
   "codemirror_mode": {
    "name": "ipython",
    "version": 2
   },
   "file_extension": ".py",
   "mimetype": "text/x-python",
   "name": "python",
   "nbconvert_exporter": "python",
   "pygments_lexer": "ipython2",
   "version": "2.7.13"
  }
 },
 "nbformat": 4,
 "nbformat_minor": 1
}
